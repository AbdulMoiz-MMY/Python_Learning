{
  "cells": [
    {
      "cell_type": "markdown",
      "metadata": {
        "id": "view-in-github",
        "colab_type": "text"
      },
      "source": [
        "<a href=\"https://colab.research.google.com/github/AbdulMoiz-MMY/Python_Learning/blob/main/Copy_of_Welcome_To_Colab.ipynb\" target=\"_parent\"><img src=\"https://colab.research.google.com/assets/colab-badge.svg\" alt=\"Open In Colab\"/></a>"
      ]
    },
    {
      "cell_type": "code",
      "source": [
        "name = \"Abdul Moiz\""
      ],
      "metadata": {
        "id": "o-YoDuuE_10g"
      },
      "execution_count": null,
      "outputs": []
    },
    {
      "cell_type": "code",
      "source": [
        "fav_food = \"Mango\""
      ],
      "metadata": {
        "id": "uPzC1h7J__Y-"
      },
      "execution_count": null,
      "outputs": []
    },
    {
      "cell_type": "code",
      "source": [
        "fav_City = \"Islamabad\""
      ],
      "metadata": {
        "id": "Fb5OVW46EIjl"
      },
      "execution_count": null,
      "outputs": []
    },
    {
      "cell_type": "code",
      "source": [
        "Fav_Country = \"Pakistan\""
      ],
      "metadata": {
        "id": "lH26-1u8EPmt"
      },
      "execution_count": null,
      "outputs": []
    },
    {
      "cell_type": "code",
      "source": [
        "print(f\"\"\"My name is {name}.\n",
        "MY favorite food is {fav_food}.\n",
        "My favorite city is {fav_City}.\n",
        "My favorite is country is {Fav_Country}.\"\"\")"
      ],
      "metadata": {
        "id": "s6LrFnMgEXK7",
        "outputId": "936ec9b9-c66f-4ea5-db4f-b8cbcc145b82",
        "colab": {
          "base_uri": "https://localhost:8080/"
        }
      },
      "execution_count": null,
      "outputs": [
        {
          "output_type": "stream",
          "name": "stdout",
          "text": [
            "My name is Abdul Moiz.\n",
            "MY favorite food is Mango.\n",
            "My favorite city is Islamabad.\n",
            "My favorite is country is Pakistan.\n"
          ]
        }
      ]
    },
    {
      "cell_type": "code",
      "source": [],
      "metadata": {
        "id": "Ha7uQZFnEzZd"
      },
      "execution_count": null,
      "outputs": []
    }
  ],
  "metadata": {
    "colab": {
      "provenance": [],
      "include_colab_link": true
    },
    "kernelspec": {
      "display_name": "Python 3",
      "name": "python3"
    }
  },
  "nbformat": 4,
  "nbformat_minor": 0
}