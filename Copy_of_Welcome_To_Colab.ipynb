{
  "cells": [
    {
      "cell_type": "markdown",
      "metadata": {
        "id": "view-in-github",
        "colab_type": "text"
      },
      "source": [
        "<a href=\"https://colab.research.google.com/github/AbdulMoiz-MMY/Python_Learning/blob/main/Copy_of_Welcome_To_Colab.ipynb\" target=\"_parent\"><img src=\"https://colab.research.google.com/assets/colab-badge.svg\" alt=\"Open In Colab\"/></a>"
      ]
    },
    {
      "cell_type": "markdown",
      "source": [
        "##Step 01:\n",
        "  ###  Hello World Display.\n",
        "##Step 02:\n",
        "   ### Variable Delare.\n",
        "##Step 03:\n",
        "  ### Variable type.\n",
        "  #### 01 String (\"____\")\n",
        "  #### 02 f_string (f\"____\")\n",
        "  #### 03 number(0000)\n",
        "  #### 04 Float_value (0.000)\n",
        "  #### 05 Arithmatic Operation( +, -, *, /, %)"
      ],
      "metadata": {
        "id": "4JUDsKK8aIxH"
      }
    },
    {
      "cell_type": "code",
      "source": [
        "name = \"Abdul Moiz\""
      ],
      "metadata": {
        "id": "o-YoDuuE_10g"
      },
      "execution_count": null,
      "outputs": []
    },
    {
      "cell_type": "code",
      "source": [
        "fav_food = \"Mango\""
      ],
      "metadata": {
        "id": "uPzC1h7J__Y-"
      },
      "execution_count": null,
      "outputs": []
    },
    {
      "cell_type": "code",
      "source": [
        "age = 20"
      ],
      "metadata": {
        "id": "qAq5TSuGZnYa"
      },
      "execution_count": null,
      "outputs": []
    },
    {
      "cell_type": "code",
      "source": [
        "fav_City = \"Islamabad\""
      ],
      "metadata": {
        "id": "Fb5OVW46EIjl"
      },
      "execution_count": null,
      "outputs": []
    },
    {
      "cell_type": "code",
      "source": [
        "Fav_Country = \"Pakistan\""
      ],
      "metadata": {
        "id": "lH26-1u8EPmt"
      },
      "execution_count": null,
      "outputs": []
    },
    {
      "cell_type": "code",
      "source": [
        "print(f\"\"\"My name is {name}.\n",
        "My age is {age}.\n",
        "MY favorite food is {fav_food}.\n",
        "My favorite city is {fav_City}.\n",
        "My favorite is country is {Fav_Country}.\"\"\")"
      ],
      "metadata": {
        "id": "s6LrFnMgEXK7",
        "outputId": "b221c96e-0834-4d52-cec2-70a4f8c3b791",
        "colab": {
          "base_uri": "https://localhost:8080/"
        }
      },
      "execution_count": null,
      "outputs": [
        {
          "output_type": "stream",
          "name": "stdout",
          "text": [
            "My name is Abdul Moiz.\n",
            "My age is 20.\n",
            "MY favorite food is Mango.\n",
            "My favorite city is Islamabad.\n",
            "My favorite is country is Pakistan.\n"
          ]
        }
      ]
    },
    {
      "cell_type": "markdown",
      "source": [
        "### Explain Arithmatic operation\n"
      ],
      "metadata": {
        "id": "w9Gl4AP_aC0B"
      }
    },
    {
      "cell_type": "code",
      "source": [
        "num1 = 10 + 2\n",
        "num2 = 10 - 2\n",
        "num3 = 10 *2\n",
        "num4 = 10 / 2\n",
        "num5 = 10 % 2\n",
        "print(f\"\"\"\n",
        "10 + 2\n",
        "Addtion: {num1}\n",
        "Subtraction: {num2}\n",
        "Multiplication: {num3}\n",
        "Division: {num4}\n",
        "Modulus: {num5}\n",
        "\"\"\")"
      ],
      "metadata": {
        "id": "Ha7uQZFnEzZd",
        "colab": {
          "base_uri": "https://localhost:8080/"
        },
        "outputId": "759bcfbf-3f9b-4e35-ccb2-217f7323894b"
      },
      "execution_count": null,
      "outputs": [
        {
          "output_type": "stream",
          "name": "stdout",
          "text": [
            "\n",
            "10 + 2\n",
            "Addtion: 12\n",
            "Subtraction: 8\n",
            "Multiplication: 20\n",
            "Division: 5.0\n",
            "Modulus: 0\n",
            "\n"
          ]
        }
      ]
    },
    {
      "cell_type": "markdown",
      "source": [
        "## Assignment Question\n"
      ],
      "metadata": {
        "id": "B01FiRArd3P-"
      }
    },
    {
      "cell_type": "code",
      "source": [
        "faculty = 12\n",
        "administrator = 4\n",
        "student = 100\n",
        "Absent =  15\n",
        "per_person_rabri = 250\n",
        "total_people = faculty + administrator + student\n",
        "remaining_people = total_people - Absent\n",
        "prepration = per_person_rabri * remaining_people\n",
        "print(f\"Chand tara invited to Kheer party total members is {total_people} \")\n",
        "print(f\"Remaining people is {remaining_people}\")\n",
        "print(f\"Rabari in gram {per_person_rabri}\")\n",
        "print(f\"Total rabri in gram: {prepration} g.`\")\n",
        "print(f\"Rabri convert in kg: {prepration // 1000} kg. \")"
      ],
      "metadata": {
        "colab": {
          "base_uri": "https://localhost:8080/"
        },
        "id": "U_cPkF1SdBIL",
        "outputId": "d4f108b1-8b03-4543-9515-c7bd5526d310"
      },
      "execution_count": null,
      "outputs": [
        {
          "output_type": "stream",
          "name": "stdout",
          "text": [
            "Chand tara invited to Kheer party total members is 116 \n",
            "Remaining people is 101\n",
            "Rabari in gram 250\n",
            "Total rabri in gram: 25250 g.`\n",
            "Rabri convert in kg: 25 kg. \n"
          ]
        }
      ]
    },
    {
      "cell_type": "markdown",
      "source": [
        "### Data Type:\n",
        "  #### Boolean (True / False)\n",
        "  ####"
      ],
      "metadata": {
        "id": "h-da60PpgTEH"
      }
    },
    {
      "cell_type": "code",
      "source": [
        "are_road = True\n",
        "is_road_closed = False\n",
        "\n",
        "print(are_road)\n",
        "print(is_road_closed\n"
      ],
      "metadata": {
        "id": "HPmIzJrsmWkY",
        "outputId": "73d1db35-0f03-4303-c498-e9ca884e8047",
        "colab": {
          "base_uri": "https://localhost:8080/",
          "height": 111
        }
      },
      "execution_count": 1,
      "outputs": [
        {
          "output_type": "error",
          "ename": "SyntaxError",
          "evalue": "incomplete input (<ipython-input-1-7ce0a93720cb>, line 5)",
          "traceback": [
            "\u001b[0;36m  File \u001b[0;32m\"<ipython-input-1-7ce0a93720cb>\"\u001b[0;36m, line \u001b[0;32m5\u001b[0m\n\u001b[0;31m    print(is_road_closed\u001b[0m\n\u001b[0m                        ^\u001b[0m\n\u001b[0;31mSyntaxError\u001b[0m\u001b[0;31m:\u001b[0m incomplete input\n"
          ]
        }
      ]
    }
  ],
  "metadata": {
    "colab": {
      "provenance": [],
      "include_colab_link": true
    },
    "kernelspec": {
      "display_name": "Python 3",
      "name": "python3"
    }
  },
  "nbformat": 4,
  "nbformat_minor": 0
}